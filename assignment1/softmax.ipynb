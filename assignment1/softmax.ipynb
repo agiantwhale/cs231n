{
 "cells": [
  {
   "cell_type": "markdown",
   "metadata": {},
   "source": [
    "# Softmax exercise\n",
    "\n",
    "*Complete and hand in this completed worksheet (including its outputs and any supporting code outside of the worksheet) with your assignment submission. For more details see the [assignments page](http://vision.stanford.edu/teaching/cs231n/assignments.html) on the course website.*\n",
    "\n",
    "This exercise is analogous to the SVM exercise. You will:\n",
    "\n",
    "- implement a fully-vectorized **loss function** for the Softmax classifier\n",
    "- implement the fully-vectorized expression for its **analytic gradient**\n",
    "- **check your implementation** with numerical gradient\n",
    "- use a validation set to **tune the learning rate and regularization** strength\n",
    "- **optimize** the loss function with **SGD**\n",
    "- **visualize** the final learned weights\n"
   ]
  },
  {
   "cell_type": "code",
   "execution_count": 15,
   "metadata": {
    "collapsed": false
   },
   "outputs": [
    {
     "name": "stdout",
     "output_type": "stream",
     "text": [
      "The autoreload extension is already loaded. To reload it, use:\n",
      "  %reload_ext autoreload\n"
     ]
    }
   ],
   "source": [
    "import random\n",
    "import numpy as np\n",
    "from cs231n.data_utils import load_CIFAR10\n",
    "import matplotlib.pyplot as plt\n",
    "\n",
    "from __future__ import print_function\n",
    "\n",
    "%matplotlib inline\n",
    "plt.rcParams['figure.figsize'] = (10.0, 8.0) # set default size of plots\n",
    "plt.rcParams['image.interpolation'] = 'nearest'\n",
    "plt.rcParams['image.cmap'] = 'gray'\n",
    "\n",
    "# for auto-reloading extenrnal modules\n",
    "# see http://stackoverflow.com/questions/1907993/autoreload-of-modules-in-ipython\n",
    "%load_ext autoreload\n",
    "%autoreload 2"
   ]
  },
  {
   "cell_type": "code",
   "execution_count": 16,
   "metadata": {
    "collapsed": false
   },
   "outputs": [
    {
     "name": "stdout",
     "output_type": "stream",
     "text": [
      "Train data shape:  (49000, 3073)\n",
      "Train labels shape:  (49000,)\n",
      "Validation data shape:  (1000, 3073)\n",
      "Validation labels shape:  (1000,)\n",
      "Test data shape:  (1000, 3073)\n",
      "Test labels shape:  (1000,)\n",
      "dev data shape:  (500, 3073)\n",
      "dev labels shape:  (500,)\n"
     ]
    }
   ],
   "source": [
    "def get_CIFAR10_data(num_training=49000, num_validation=1000, num_test=1000, num_dev=500):\n",
    "    \"\"\"\n",
    "    Load the CIFAR-10 dataset from disk and perform preprocessing to prepare\n",
    "    it for the linear classifier. These are the same steps as we used for the\n",
    "    SVM, but condensed to a single function.  \n",
    "    \"\"\"\n",
    "    # Load the raw CIFAR-10 data\n",
    "    cifar10_dir = 'cs231n/datasets/cifar-10-batches-py'\n",
    "    X_train, y_train, X_test, y_test = load_CIFAR10(cifar10_dir)\n",
    "    \n",
    "    # subsample the data\n",
    "    mask = list(range(num_training, num_training + num_validation))\n",
    "    X_val = X_train[mask]\n",
    "    y_val = y_train[mask]\n",
    "    mask = list(range(num_training))\n",
    "    X_train = X_train[mask]\n",
    "    y_train = y_train[mask]\n",
    "    mask = list(range(num_test))\n",
    "    X_test = X_test[mask]\n",
    "    y_test = y_test[mask]\n",
    "    mask = np.random.choice(num_training, num_dev, replace=False)\n",
    "    X_dev = X_train[mask]\n",
    "    y_dev = y_train[mask]\n",
    "    \n",
    "    # Preprocessing: reshape the image data into rows\n",
    "    X_train = np.reshape(X_train, (X_train.shape[0], -1))\n",
    "    X_val = np.reshape(X_val, (X_val.shape[0], -1))\n",
    "    X_test = np.reshape(X_test, (X_test.shape[0], -1))\n",
    "    X_dev = np.reshape(X_dev, (X_dev.shape[0], -1))\n",
    "    \n",
    "    # Normalize the data: subtract the mean image\n",
    "    mean_image = np.mean(X_train, axis = 0)\n",
    "    X_train -= mean_image\n",
    "    X_val -= mean_image\n",
    "    X_test -= mean_image\n",
    "    X_dev -= mean_image\n",
    "    \n",
    "    # add bias dimension and transform into columns\n",
    "    X_train = np.hstack([X_train, np.ones((X_train.shape[0], 1))])\n",
    "    X_val = np.hstack([X_val, np.ones((X_val.shape[0], 1))])\n",
    "    X_test = np.hstack([X_test, np.ones((X_test.shape[0], 1))])\n",
    "    X_dev = np.hstack([X_dev, np.ones((X_dev.shape[0], 1))])\n",
    "    \n",
    "    return X_train, y_train, X_val, y_val, X_test, y_test, X_dev, y_dev\n",
    "\n",
    "\n",
    "# Invoke the above function to get our data.\n",
    "X_train, y_train, X_val, y_val, X_test, y_test, X_dev, y_dev = get_CIFAR10_data()\n",
    "print('Train data shape: ', X_train.shape)\n",
    "print('Train labels shape: ', y_train.shape)\n",
    "print('Validation data shape: ', X_val.shape)\n",
    "print('Validation labels shape: ', y_val.shape)\n",
    "print('Test data shape: ', X_test.shape)\n",
    "print('Test labels shape: ', y_test.shape)\n",
    "print('dev data shape: ', X_dev.shape)\n",
    "print('dev labels shape: ', y_dev.shape)"
   ]
  },
  {
   "cell_type": "markdown",
   "metadata": {},
   "source": [
    "## Softmax Classifier\n",
    "\n",
    "Your code for this section will all be written inside **cs231n/classifiers/softmax.py**. \n"
   ]
  },
  {
   "cell_type": "code",
   "execution_count": 17,
   "metadata": {
    "collapsed": false
   },
   "outputs": [
    {
     "name": "stdout",
     "output_type": "stream",
     "text": [
      "loss: 2.334088\n",
      "sanity check: 2.302585\n"
     ]
    }
   ],
   "source": [
    "# First implement the naive softmax loss function with nested loops.\n",
    "# Open the file cs231n/classifiers/softmax.py and implement the\n",
    "# softmax_loss_naive function.\n",
    "\n",
    "from cs231n.classifiers.softmax import softmax_loss_naive\n",
    "import time\n",
    "\n",
    "# Generate a random softmax weight matrix and use it to compute the loss.\n",
    "W = np.random.randn(3073, 10) * 0.0001\n",
    "loss, grad = softmax_loss_naive(W, X_dev, y_dev, 0.0)\n",
    "\n",
    "# As a rough sanity check, our loss should be something close to -log(0.1).\n",
    "print('loss: %f' % loss)\n",
    "print('sanity check: %f' % (-np.log(0.1)))"
   ]
  },
  {
   "cell_type": "markdown",
   "metadata": {},
   "source": [
    "## Inline Question 1:\n",
    "Why do we expect our loss to be close to -log(0.1)? Explain briefly.**\n",
    "\n",
    "**Your answer:** *Fill this in*\n"
   ]
  },
  {
   "cell_type": "code",
   "execution_count": 26,
   "metadata": {
    "collapsed": false
   },
   "outputs": [
    {
     "name": "stdout",
     "output_type": "stream",
     "text": [
      "numerical: 2.175367 analytic: 2.175367, relative error: 3.675690e-08\n",
      "numerical: 5.227641 analytic: 5.227641, relative error: 1.832119e-08\n",
      "numerical: -0.202427 analytic: -0.202427, relative error: 1.623260e-07\n",
      "numerical: 1.612955 analytic: 1.612955, relative error: 3.085283e-08\n",
      "numerical: -1.227886 analytic: -1.227886, relative error: 2.379633e-08\n",
      "numerical: -0.404369 analytic: -0.404369, relative error: 6.572670e-08\n",
      "numerical: 4.872915 analytic: 4.872915, relative error: 6.347178e-09\n",
      "numerical: -1.673987 analytic: -1.673987, relative error: 5.763300e-09\n",
      "numerical: 1.153831 analytic: 1.153831, relative error: 4.472950e-08\n",
      "numerical: 0.498487 analytic: 0.498487, relative error: 4.317474e-08\n",
      "numerical: -1.126914 analytic: -1.114708, relative error: 5.445386e-03\n",
      "numerical: 0.297661 analytic: 0.290806, relative error: 1.164905e-02\n",
      "numerical: 4.024176 analytic: 4.016026, relative error: 1.013697e-03\n",
      "numerical: 2.855185 analytic: 2.865922, relative error: 1.876743e-03\n",
      "numerical: 0.209219 analytic: 0.197010, relative error: 3.005405e-02\n",
      "numerical: -0.702304 analytic: -0.716401, relative error: 9.936770e-03\n",
      "numerical: 0.467591 analytic: 0.472204, relative error: 4.907940e-03\n",
      "numerical: 2.431655 analytic: 2.423352, relative error: 1.710148e-03\n",
      "numerical: -1.708151 analytic: -1.712208, relative error: 1.186264e-03\n",
      "numerical: -0.397896 analytic: -0.382620, relative error: 1.957123e-02\n"
     ]
    }
   ],
   "source": [
    "# Complete the implementation of softmax_loss_naive and implement a (naive)\n",
    "# version of the gradient that uses nested loops.\n",
    "loss, grad = softmax_loss_naive(W, X_dev, y_dev, 0.0)\n",
    "\n",
    "# As we did for the SVM, use numeric gradient checking as a debugging tool.\n",
    "# The numeric gradient should be close to the analytic gradient.\n",
    "from cs231n.gradient_check import grad_check_sparse\n",
    "f = lambda w: softmax_loss_naive(w, X_dev, y_dev, 0.0)[0]\n",
    "grad_numerical = grad_check_sparse(f, W, grad, 10)\n",
    "\n",
    "# similar to SVM case, do another gradient check with regularization\n",
    "loss, grad = softmax_loss_naive(W, X_dev, y_dev, 5e1)\n",
    "f = lambda w: softmax_loss_naive(w, X_dev, y_dev, 5e1)[0]\n",
    "grad_numerical = grad_check_sparse(f, W, grad, 10)"
   ]
  },
  {
   "cell_type": "code",
   "execution_count": 29,
   "metadata": {
    "collapsed": false
   },
   "outputs": [
    {
     "name": "stdout",
     "output_type": "stream",
     "text": [
      "naive loss: 2.334088e+00 computed in 0.108380s\n",
      "vectorized loss: 2.334088e+00 computed in 0.005224s\n",
      "Loss difference: 0.000000\n",
      "Gradient difference: 0.000000\n"
     ]
    }
   ],
   "source": [
    "# Now that we have a naive implementation of the softmax loss function and its gradient,\n",
    "# implement a vectorized version in softmax_loss_vectorized.\n",
    "# The two versions should compute the same results, but the vectorized version should be\n",
    "# much faster.\n",
    "tic = time.time()\n",
    "loss_naive, grad_naive = softmax_loss_naive(W, X_dev, y_dev, 0.000005)\n",
    "toc = time.time()\n",
    "print('naive loss: %e computed in %fs' % (loss_naive, toc - tic))\n",
    "\n",
    "from cs231n.classifiers.softmax import softmax_loss_vectorized\n",
    "tic = time.time()\n",
    "loss_vectorized, grad_vectorized = softmax_loss_vectorized(W, X_dev, y_dev, 0.000005)\n",
    "toc = time.time()\n",
    "print('vectorized loss: %e computed in %fs' % (loss_vectorized, toc - tic))\n",
    "\n",
    "# As we did for the SVM, we use the Frobenius norm to compare the two versions\n",
    "# of the gradient.\n",
    "grad_difference = np.linalg.norm(grad_naive - grad_vectorized, ord='fro')\n",
    "print('Loss difference: %f' % np.abs(loss_naive - loss_vectorized))\n",
    "print('Gradient difference: %f' % grad_difference)"
   ]
  },
  {
   "cell_type": "code",
   "execution_count": null,
   "metadata": {
    "collapsed": false
   },
   "outputs": [
    {
     "name": "stdout",
     "output_type": "stream",
     "text": [
      "iteration 0 / 3000: loss 767.399293\n",
      "iteration 100 / 3000: loss 764.549105\n",
      "iteration 200 / 3000: loss 762.917315\n",
      "iteration 300 / 3000: loss 762.051348\n",
      "iteration 400 / 3000: loss 760.585376\n",
      "iteration 500 / 3000: loss 759.535426\n",
      "iteration 600 / 3000: loss 758.708162\n",
      "iteration 700 / 3000: loss 758.003735\n",
      "iteration 800 / 3000: loss 757.207176\n",
      "iteration 900 / 3000: loss 756.430622\n",
      "iteration 1000 / 3000: loss 755.510287\n",
      "iteration 1100 / 3000: loss 754.984339\n",
      "iteration 1200 / 3000: loss 754.058883\n",
      "iteration 1300 / 3000: loss 753.501574\n",
      "iteration 1400 / 3000: loss 752.787999\n",
      "iteration 1500 / 3000: loss 752.153866\n",
      "iteration 1600 / 3000: loss 751.504222\n",
      "iteration 1700 / 3000: loss 750.742007\n",
      "iteration 1800 / 3000: loss 750.183065\n",
      "iteration 1900 / 3000: loss 749.598821\n",
      "iteration 2000 / 3000: loss 749.235618\n",
      "iteration 2100 / 3000: loss 748.580964\n",
      "iteration 2200 / 3000: loss 748.084808\n",
      "iteration 2300 / 3000: loss 747.619116\n",
      "iteration 2400 / 3000: loss 747.086544\n",
      "iteration 2500 / 3000: loss 746.335729\n",
      "iteration 2600 / 3000: loss 745.639765\n",
      "iteration 2700 / 3000: loss 745.417526\n",
      "iteration 2800 / 3000: loss 744.850586\n",
      "iteration 2900 / 3000: loss 744.372756\n",
      "iteration 0 / 3000: loss 1538.754324\n",
      "iteration 100 / 3000: loss 1532.603589\n",
      "iteration 200 / 3000: loss 1529.337237\n",
      "iteration 300 / 3000: loss 1526.342774\n",
      "iteration 400 / 3000: loss 1523.633470\n",
      "iteration 500 / 3000: loss 1521.374892\n",
      "iteration 600 / 3000: loss 1519.567919\n",
      "iteration 700 / 3000: loss 1517.821399\n",
      "iteration 800 / 3000: loss 1516.071701\n",
      "iteration 900 / 3000: loss 1514.355580\n",
      "iteration 1000 / 3000: loss 1512.903519\n",
      "iteration 1100 / 3000: loss 1511.188183\n",
      "iteration 1200 / 3000: loss 1509.859467\n",
      "iteration 1300 / 3000: loss 1508.577705\n",
      "iteration 1400 / 3000: loss 1507.026094\n",
      "iteration 1500 / 3000: loss 1505.627885\n",
      "iteration 1600 / 3000: loss 1504.353412\n",
      "iteration 1700 / 3000: loss 1503.265417\n",
      "iteration 1800 / 3000: loss 1501.772315\n",
      "iteration 1900 / 3000: loss 1500.800042\n",
      "iteration 2000 / 3000: loss 1499.426914\n",
      "iteration 2100 / 3000: loss 1498.400609\n",
      "iteration 2200 / 3000: loss 1497.166152\n",
      "iteration 2300 / 3000: loss 1495.998605\n",
      "iteration 2400 / 3000: loss 1494.911774\n",
      "iteration 2500 / 3000: loss 1493.971836\n",
      "iteration 2600 / 3000: loss 1492.665205\n",
      "iteration 2700 / 3000: loss 1491.742005\n",
      "iteration 2800 / 3000: loss 1490.677121\n",
      "iteration 2900 / 3000: loss 1489.766645\n",
      "iteration 0 / 3000: loss 775.184713\n",
      "iteration 100 / 3000: loss 767.561632\n",
      "iteration 200 / 3000: loss 763.066362\n",
      "iteration 300 / 3000: loss 759.893484\n",
      "iteration 400 / 3000: loss 756.903687\n",
      "iteration 500 / 3000: loss 753.708251\n",
      "iteration 600 / 3000: loss 751.582477\n",
      "iteration 700 / 3000: loss 748.918205\n",
      "iteration 800 / 3000: loss 746.790996\n",
      "iteration 900 / 3000: loss 744.692347\n",
      "iteration 1000 / 3000: loss 742.897608\n",
      "iteration 1100 / 3000: loss 741.012081\n",
      "iteration 1200 / 3000: loss 739.250668\n",
      "iteration 1300 / 3000: loss 737.294496\n",
      "iteration 1400 / 3000: loss 735.509787\n",
      "iteration 1500 / 3000: loss 734.024008\n",
      "iteration 1600 / 3000: loss 732.643845\n",
      "iteration 1700 / 3000: loss 731.045820\n",
      "iteration 1800 / 3000: loss 729.559103\n",
      "iteration 1900 / 3000: loss 728.262441\n",
      "iteration 2000 / 3000: loss 726.890850\n",
      "iteration 2100 / 3000: loss 725.551810\n",
      "iteration 2200 / 3000: loss 724.447630\n",
      "iteration 2300 / 3000: loss 723.260428\n",
      "iteration 2400 / 3000: loss 721.953946\n",
      "iteration 2500 / 3000: loss 720.770733\n",
      "iteration 2600 / 3000: loss 719.872895\n",
      "iteration 2700 / 3000: loss 718.608634\n",
      "iteration 2800 / 3000: loss 717.601889\n",
      "iteration 2900 / 3000: loss 716.338866\n",
      "iteration 0 / 3000: loss 1535.441497\n",
      "iteration 100 / 3000: loss 1519.678957\n",
      "iteration 200 / 3000: loss 1511.701142\n",
      "iteration 300 / 3000: loss 1505.269283\n",
      "iteration 400 / 3000: loss 1499.087491\n",
      "iteration 500 / 3000: loss 1493.886867\n",
      "iteration 600 / 3000: loss 1488.874766\n",
      "iteration 700 / 3000: loss 1484.479129\n",
      "iteration 800 / 3000: loss 1480.241317\n",
      "iteration 900 / 3000: loss 1476.308768\n",
      "iteration 1000 / 3000: loss 1472.619976\n",
      "iteration 1100 / 3000: loss 1469.140612\n",
      "iteration 1200 / 3000: loss 1465.771134\n",
      "iteration 1300 / 3000: loss 1462.462572\n",
      "iteration 1400 / 3000: loss 1458.962851\n",
      "iteration 1500 / 3000: loss 1456.073247\n",
      "iteration 1600 / 3000: loss 1453.065678\n",
      "iteration 1700 / 3000: loss 1450.458067\n",
      "iteration 1800 / 3000: loss 1447.311511\n",
      "iteration 1900 / 3000: loss 1444.880757\n",
      "iteration 2000 / 3000: loss 1442.428637\n"
     ]
    }
   ],
   "source": [
    "# Use the validation set to tune hyperparameters (regularization strength and\n",
    "# learning rate). You should experiment with different ranges for the learning\n",
    "# rates and regularization strengths; if you are careful you should be able to\n",
    "# get a classification accuracy of over 0.35 on the validation set.\n",
    "from cs231n.classifiers import Softmax\n",
    "results = {}\n",
    "best_val = -1\n",
    "best_softmax = None\n",
    "learning_rates = [1e-7, 5e-7]\n",
    "regularization_strengths = [2.5e4, 5e4]\n",
    "\n",
    "################################################################################\n",
    "# TODO:                                                                        #\n",
    "# Use the validation set to set the learning rate and regularization strength. #\n",
    "# This should be identical to the validation that you did for the SVM; save    #\n",
    "# the best trained softmax classifer in best_softmax.                          #\n",
    "################################################################################\n",
    "for l_rate in learning_rates:\n",
    "    for reg_strength in regularization_strengths:\n",
    "        smax = Softmax()\n",
    "        smax.train(X_train, y_train, learning_rate=l_rate, reg=reg_strength,\n",
    "                   num_iters=3000, verbose=True)\n",
    "        \n",
    "        y_train_pred = smax.predict(X_train)\n",
    "        y_val_pred = smax.predict(X_val)\n",
    "        \n",
    "        train_accuracy = np.mean(y_train == y_train_pred)\n",
    "        val_accuracy = np.mean(y_val == y_val_pred)\n",
    "        results[(l_rate, reg_strength)] = (train_accuracy, val_accuracy)\n",
    "        \n",
    "        if val_accuracy > best_val:\n",
    "            best_val = val_accuracy\n",
    "            best_softmax = smax\n",
    "################################################################################\n",
    "#                              END OF YOUR CODE                                #\n",
    "################################################################################\n",
    "    \n",
    "# Print out results.\n",
    "for lr, reg in sorted(results):\n",
    "    train_accuracy, val_accuracy = results[(lr, reg)]\n",
    "    print('lr %e reg %e train accuracy: %f val accuracy: %f' % (\n",
    "                lr, reg, train_accuracy, val_accuracy))\n",
    "    \n",
    "print('best validation accuracy achieved during cross-validation: %f' % best_val)"
   ]
  },
  {
   "cell_type": "code",
   "execution_count": null,
   "metadata": {
    "collapsed": false
   },
   "outputs": [],
   "source": [
    "# evaluate on test set\n",
    "# Evaluate the best softmax on test set\n",
    "y_test_pred = best_softmax.predict(X_test)\n",
    "test_accuracy = np.mean(y_test == y_test_pred)\n",
    "print('softmax on raw pixels final test set accuracy: %f' % (test_accuracy, ))"
   ]
  },
  {
   "cell_type": "code",
   "execution_count": null,
   "metadata": {
    "collapsed": false
   },
   "outputs": [],
   "source": [
    "# Visualize the learned weights for each class\n",
    "w = best_softmax.W[:-1,:] # strip out the bias\n",
    "w = w.reshape(32, 32, 3, 10)\n",
    "\n",
    "w_min, w_max = np.min(w), np.max(w)\n",
    "\n",
    "classes = ['plane', 'car', 'bird', 'cat', 'deer', 'dog', 'frog', 'horse', 'ship', 'truck']\n",
    "for i in range(10):\n",
    "    plt.subplot(2, 5, i + 1)\n",
    "    \n",
    "    # Rescale the weights to be between 0 and 255\n",
    "    wimg = 255.0 * (w[:, :, :, i].squeeze() - w_min) / (w_max - w_min)\n",
    "    plt.imshow(wimg.astype('uint8'))\n",
    "    plt.axis('off')\n",
    "    plt.title(classes[i])"
   ]
  }
 ],
 "metadata": {
  "kernelspec": {
   "display_name": "Python 3",
   "language": "python",
   "name": "python3"
  },
  "language_info": {
   "codemirror_mode": {
    "name": "ipython",
    "version": 3
   },
   "file_extension": ".py",
   "mimetype": "text/x-python",
   "name": "python",
   "nbconvert_exporter": "python",
   "pygments_lexer": "ipython3",
   "version": "3.6.0"
  }
 },
 "nbformat": 4,
 "nbformat_minor": 0
}
